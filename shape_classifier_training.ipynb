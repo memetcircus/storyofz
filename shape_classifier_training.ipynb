import geopandas as gpd
import numpy as np
import cv2
import os
import pandas as pd
from shapely.affinity import scale, translate

def rasterize_shape(geom, size=256):
    minx, miny, maxx, maxy = geom.bounds
    scale_x = scale_y = size / max(maxx - minx, maxy - miny)
    norm_geom = translate(scale(geom, xfact=scale_x, yfact=scale_y, origin=(minx, miny)),
                          xoff=5, yoff=5)
    img = np.zeros((size+10, size+10), dtype=np.uint8)
    coords = np.array(norm_geom.exterior.coords, np.int32)
    cv2.fillPoly(img, [coords], 255)
    return img

def extract_hu_features(geojson_path, label):
    gdf = gpd.read_file(geojson_path)
    geom = gdf.geometry.iloc[0]
    img = rasterize_shape(geom)
    hu = cv2.HuMoments(cv2.moments(img)).flatten()
    hu_log = -np.sign(hu) * np.log10(np.abs(hu) + 1e-10)
    return list(hu_log) + [label, os.path.basename(geojson_path)]

# Collect features
data = []
shape_dir = "training_shapes"

for file in os.listdir(shape_dir):
    if file.endswith(".geojson"):
        label = "symbolic" if "symbolic" in file else "natural"
        feature_vector = extract_hu_features(os.path.join(shape_dir, file), label)
        data.append(feature_vector)

# Save to CSV
columns = [f"hu{i+1}" for i in range(7)] + ["label", "filename"]
df = pd.DataFrame(data, columns=columns)
df.to_csv("data/features.csv", index=False)
df.head()
